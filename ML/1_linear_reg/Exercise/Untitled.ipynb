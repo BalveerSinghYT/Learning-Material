{
 "cells": [
  {
   "cell_type": "code",
   "execution_count": 13,
   "id": "fd800455-4a63-4dab-b1a4-c8e609f3f03f",
   "metadata": {},
   "outputs": [
    {
     "name": "stdout",
     "output_type": "stream",
     "text": [
      "<class 'pandas.core.frame.DataFrame'>\n",
      "RangeIndex: 641 entries, 0 to 640\n",
      "Data columns (total 7 columns):\n",
      " #   Column    Non-Null Count  Dtype \n",
      "---  ------    --------------  ----- \n",
      " 0   Date      641 non-null    object\n",
      " 1   Price     641 non-null    object\n",
      " 2   Open      641 non-null    object\n",
      " 3   High      641 non-null    object\n",
      " 4   Low       641 non-null    object\n",
      " 5   Vol.      631 non-null    object\n",
      " 6   Change %  641 non-null    object\n",
      "dtypes: object(7)\n",
      "memory usage: 35.2+ KB\n"
     ]
    }
   ],
   "source": [
    "import pandas as pd\n",
    "from matplotlib import pyplot as plt\n",
    "\n",
    "df = pd.read_csv('TurmericPrice.csv')\n",
    "df.info()"
   ]
  },
  {
   "cell_type": "code",
   "execution_count": 14,
   "id": "856e805f-45f5-4439-a56d-efa5f0883352",
   "metadata": {},
   "outputs": [
    {
     "data": {
      "text/html": [
       "<div>\n",
       "<style scoped>\n",
       "    .dataframe tbody tr th:only-of-type {\n",
       "        vertical-align: middle;\n",
       "    }\n",
       "\n",
       "    .dataframe tbody tr th {\n",
       "        vertical-align: top;\n",
       "    }\n",
       "\n",
       "    .dataframe thead th {\n",
       "        text-align: right;\n",
       "    }\n",
       "</style>\n",
       "<table border=\"1\" class=\"dataframe\">\n",
       "  <thead>\n",
       "    <tr style=\"text-align: right;\">\n",
       "      <th></th>\n",
       "      <th>Date</th>\n",
       "      <th>Price</th>\n",
       "      <th>Open</th>\n",
       "      <th>High</th>\n",
       "      <th>Low</th>\n",
       "      <th>Vol.</th>\n",
       "      <th>Change %</th>\n",
       "    </tr>\n",
       "  </thead>\n",
       "  <tbody>\n",
       "    <tr>\n",
       "      <th>0</th>\n",
       "      <td>23-08-2024</td>\n",
       "      <td>14,540.00</td>\n",
       "      <td>15,290.00</td>\n",
       "      <td>15,290.00</td>\n",
       "      <td>14,400.00</td>\n",
       "      <td>6.18K</td>\n",
       "      <td>-4.34%</td>\n",
       "    </tr>\n",
       "    <tr>\n",
       "      <th>1</th>\n",
       "      <td>22-08-2024</td>\n",
       "      <td>15,200.00</td>\n",
       "      <td>15,022.00</td>\n",
       "      <td>15,380.00</td>\n",
       "      <td>15,050.00</td>\n",
       "      <td>2.69K</td>\n",
       "      <td>0.21%</td>\n",
       "    </tr>\n",
       "    <tr>\n",
       "      <th>2</th>\n",
       "      <td>21-08-2024</td>\n",
       "      <td>15,168.00</td>\n",
       "      <td>16,030.00</td>\n",
       "      <td>16,030.00</td>\n",
       "      <td>15,126.00</td>\n",
       "      <td>7.67K</td>\n",
       "      <td>-3.55%</td>\n",
       "    </tr>\n",
       "    <tr>\n",
       "      <th>3</th>\n",
       "      <td>20-08-2024</td>\n",
       "      <td>15,726.00</td>\n",
       "      <td>15,800.00</td>\n",
       "      <td>15,800.00</td>\n",
       "      <td>15,690.00</td>\n",
       "      <td>0.88K</td>\n",
       "      <td>-0.24%</td>\n",
       "    </tr>\n",
       "    <tr>\n",
       "      <th>4</th>\n",
       "      <td>19-08-2024</td>\n",
       "      <td>15,764.00</td>\n",
       "      <td>15,620.00</td>\n",
       "      <td>15,848.00</td>\n",
       "      <td>15,620.00</td>\n",
       "      <td>0.55K</td>\n",
       "      <td>1.35%</td>\n",
       "    </tr>\n",
       "  </tbody>\n",
       "</table>\n",
       "</div>"
      ],
      "text/plain": [
       "         Date      Price       Open       High        Low   Vol. Change %\n",
       "0  23-08-2024  14,540.00  15,290.00  15,290.00  14,400.00  6.18K   -4.34%\n",
       "1  22-08-2024  15,200.00  15,022.00  15,380.00  15,050.00  2.69K    0.21%\n",
       "2  21-08-2024  15,168.00  16,030.00  16,030.00  15,126.00  7.67K   -3.55%\n",
       "3  20-08-2024  15,726.00  15,800.00  15,800.00  15,690.00  0.88K   -0.24%\n",
       "4  19-08-2024  15,764.00  15,620.00  15,848.00  15,620.00  0.55K    1.35%"
      ]
     },
     "execution_count": 14,
     "metadata": {},
     "output_type": "execute_result"
    }
   ],
   "source": [
    "df.head()"
   ]
  },
  {
   "cell_type": "code",
   "execution_count": 17,
   "id": "819c65c0-7898-447a-9a93-927a7146610d",
   "metadata": {},
   "outputs": [
    {
     "data": {
      "text/plain": [
       "[<matplotlib.lines.Line2D at 0x1e3d9780210>]"
      ]
     },
     "execution_count": 17,
     "metadata": {},
     "output_type": "execute_result"
    }
   ],
   "source": [
    "plt.plot(df.Price, df.Date)"
   ]
  },
  {
   "cell_type": "code",
   "execution_count": null,
   "id": "447dded7-2828-4d2a-9984-0c0886c72d56",
   "metadata": {},
   "outputs": [],
   "source": []
  }
 ],
 "metadata": {
  "kernelspec": {
   "display_name": "Python 3 (ipykernel)",
   "language": "python",
   "name": "python3"
  },
  "language_info": {
   "codemirror_mode": {
    "name": "ipython",
    "version": 3
   },
   "file_extension": ".py",
   "mimetype": "text/x-python",
   "name": "python",
   "nbconvert_exporter": "python",
   "pygments_lexer": "ipython3",
   "version": "3.11.7"
  }
 },
 "nbformat": 4,
 "nbformat_minor": 5
}
