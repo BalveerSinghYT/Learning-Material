import pandas as pd
from sklearn.tree import DecisionTreeClassifier


df = pd.read_csv("titanic.csv")
df.head()


df.info()


input = df.loc[:, ["Pclass", "Sex", "Age", "Fare"]]
input


from sklearn.preprocessing import LabelEncoder


sex_encoder = LabelEncoder()


input["sex_encode"] = sex_encoder.fit_transform(input["Sex"])


input


target = df.loc[:, "Survived"]
target


model = DecisionTreeClassifier()


input.drop("Sex", axis=1)


model.fit(input.drop("Sex", axis=1), target)


model.score(input.drop("Sex", axis=1), target)*100





# handling the nan values
input["Age"] = input.Age.fillna(round(input.Age.mean()))
input.head()


input.info()


input.drop("Sex", axis=1, inplace=True)
input.tail()


from sklearn.model_selection import train_test_split


X_train, X_test, y_train, y_test = train_test_split(input, target, test_size = 0.2, random_state=7)


prcess_model = DecisionTreeClassifier()


prcess_model.fit(X_train, y_train)


prcess_model.score(X_test, y_test)*100





y_pred = prcess_model.predict(X_test)


from sklearn.metrics import confusion_matrix


cm = confusion_matrix(y_test, y_pred)
cm


import seaborn as sn
from matplotlib import pyplot as plt
plt.figure(figsize = (10,7))
sn.heatmap(cm, annot=True)
plt.xlabel('Predicted')
plt.ylabel('Truth')
