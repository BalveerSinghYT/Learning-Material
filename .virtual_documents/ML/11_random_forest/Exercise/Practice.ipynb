import pandas as pd
from sklearn.datasets import load_iris


iris = load_iris()
iris


iris.keys()


df = pd.DataFrame(iris.data, columns=iris.feature_names)
df


df['target'] = iris.target


df.head()


x = df.iloc[:, :-1]
x


y = df.iloc[:, -1]
y


from sklearn.model_selection import train_test_split



X_train, X_test, y_train, y_test = train_test_split(x, y, test_size=0.2)


len(X_train)


from sklearn.ensemble import RandomForestClassifier


model = RandomForestClassifier()


model.fit(X_train, y_train)


model.score(X_test, y_test)





fine_tune_model.fit(X_train, y_train)
fine_tune_model.score(X_test, y_test)


fine_tune_model = RandomForestClassifier()
params = {
    'n_estimators': [10, 20, 30, 60, 80, 100]
}



from sklearn.model_selection import GridSearchCV
res = GridSearchCV(fine_tune_model, params)


res.fit(X_train, y_train)


res.cv_results_.keys()


res.cv_results_['mean_test_score']





res.cv_results_


res.best_params_


res.best_estimator_.score(X_test, y_test)


res.best_score_



