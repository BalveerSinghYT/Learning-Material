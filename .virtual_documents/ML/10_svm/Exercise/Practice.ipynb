import pandas as pd
from sklearn.datasets import load_digits
from sklearn.svm import SVC


type(load_digits)


digits = load_digits()


digits.keys()


len(digits.target)


digits.target_names


digits.images[0]


import matplotlib.pyplot as plt

plt.imshow(digits.images[0], cmap="gray")
plt.show()


df = pd.DataFrame(digits.data)


df


X = digits.data
y = digits.target


model = SVC()


from sklearn.model_selection import train_test_split


X_train, X_test, y_train, y_test = train_test_split(X, y, test_size=0.2)


model.fit(X_train, y_train)


model.score(X_test, y_test)


model.predict(X_test)


y_test


x = model.predict(X_test) 
y = y_test


plt.scatter(x, y)
plt.xlabel("Predicted")
plt.ylabel("Actual")
plt.grid()
plt.show()





model_tunned = SVC(C=5, kernel="linear")
model_tunned.fit(X_train, y_train)
model_tunned.score(X_test, y_test)



