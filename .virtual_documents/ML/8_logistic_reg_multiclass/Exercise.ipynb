import pandas as pd
from sklearn.linear_model import LogisticRegression
from sklearn.model_selection import train_test_split
from matplotlib import pyplot as plt


df = pd.read_csv("IRIS.csv")
df


df.info()


model = LogisticRegression()


from sklearn.preprocessing import LabelEncoder
encoder = LabelEncoder()


df.species = encoder.fit_transform(df.species)


X_train, X_test, y_train, y_test = train_test_split(df[['sepal_length', 'sepal_width', 'petal_length', 'petal_width']], df.species, test_size= 0.2)


len(X_train)


len(X_test)


model.fit(X_train, y_train)


model.predict(X_test)


model.score(X_test, y_test)*100





y_predicted = model.predict(X_test)


from sklearn.metrics import confusion_matrix


cm = confusion_matrix(y_test, y_predicted)
cm


import seaborn as sn
plt.figure(figsize = (10,7))
sn.heatmap(cm, annot=True)
plt.xlabel('Predicted')
plt.ylabel('Truth')



