from sklearn.cluster import KMeans
import pandas as pd
from sklearn.preprocessing import MinMaxScaler
from matplotlib import pyplot as plt
%matplotlib inline


df = pd.read_csv("income.csv")


df.head()


plt.scatter(df.iloc[:, 1], df.iloc[:, 2])


km = KMeans(n_clusters=3)
y_pred = km.fit_predict(df.iloc[:, 1:])


y_pred


df['cluster'] = y_pred


df.head()


df1 = df[df.cluster == 0]
df2 = df[df.cluster == 1]
df3 = df[df.cluster == 2]

plt.scatter(df1.Age, df1["Income($)"], color="red")
plt.scatter(df2.Age, df2["Income($)"], color="green")
plt.scatter(df3.Age, df3["Income($)"], color="black")





# df.loc[:, "Age"]
scaler = MinMaxScaler()
scaler.fit(df[["Age"]])
df["Age"] = scaler.transform(df[['Age']])

scaler.fit(df[["Income($)"]])
df["Income($)"] = scaler.transform(df[['Income($)']])


km = KMeans(n_clusters=3)
y_pred = km.fit_predict(df.iloc[:, 1:])


y_pred


df["cluster"] = y_pred


df1 = df[df.cluster == 0]
df2 = df[df.cluster == 1]
df3 = df[df.cluster == 2]

plt.scatter(df1.Age, df1["Income($)"], color="red")
plt.scatter(df2.Age, df2["Income($)"], color="green")
plt.scatter(df3.Age, df3["Income($)"], color="black")



