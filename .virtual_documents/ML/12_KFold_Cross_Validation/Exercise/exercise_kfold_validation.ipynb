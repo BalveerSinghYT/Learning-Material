from sklearn.datasets import load_iris
from sklearn.model_selection import cross_val_score
from sklearn.linear_model import LogisticRegression
from sklearn.tree import DecisionTreeClassifier
from sklearn.svm import SVC
from sklearn.ensemble import RandomForestClassifier
import numpy as np


iris = load_iris()





l_scores = cross_val_score(LogisticRegression(), iris.data, iris.target)
l_scores


np.average(l_scores)





d_scores = cross_val_score(DecisionTreeClassifier(), iris.data, iris.target)
d_scores


np.average(d_scores)





s_scores = cross_val_score(SVC(), iris.data, iris.target)
s_scores


np.average(s_scores)





r_scores = cross_val_score(RandomForestClassifier(n_estimators=40), iris.data, iris.target)
r_scores


np.average(r_scores)



