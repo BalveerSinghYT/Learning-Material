import pandas as pd
from sklearn.tree import DecisionTreeClassifier


df = pd.read_csv("titanic.csv")
df.head()


df.info()


df["Age"][df["Age"].isnull() == True]


input = df.loc[]
